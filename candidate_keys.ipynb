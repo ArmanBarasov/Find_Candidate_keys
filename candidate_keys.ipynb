{
 "cells": [
  {
   "cell_type": "code",
   "execution_count": 20,
   "id": "838a23f2-58dc-4598-be30-1d82555697a8",
   "metadata": {},
   "outputs": [],
   "source": [
    "import pandas as pd"
   ]
  },
  {
   "cell_type": "code",
   "execution_count": 21,
   "id": "68b619e5-fe6d-4dbe-a20d-ae8cde508dee",
   "metadata": {},
   "outputs": [],
   "source": [
    "file_path = 'Table.xlsb' # читаем файл\n",
    "df = pd.read_excel(file_path, engine='pyxlsb') # создаем базу данных"
   ]
  },
  {
   "cell_type": "code",
   "execution_count": 22,
   "id": "1a87e8fa-e847-4d4d-a010-789fe55e944f",
   "metadata": {},
   "outputs": [],
   "source": [
    "# поиск кандидатских ключей\n",
    "\n",
    "def find_candidate_keys(df):\n",
    "    candidate_keys = []\n",
    "    \n",
    "    for column in df.columns:\n",
    "        subset_df = df.drop(columns=[column])\n",
    "        if not subset_df.duplicated().any():\n",
    "            candidate_keys.append(column)\n",
    "    \n",
    "    return candidate_keys"
   ]
  },
  {
   "cell_type": "code",
   "execution_count": 24,
   "id": "4216eebd-6548-48c7-96c0-4ec4ebc0b535",
   "metadata": {},
   "outputs": [
    {
     "name": "stdout",
     "output_type": "stream",
     "text": [
      "Unnamed: 0\n",
      "Unnamed: 1\n",
      "Unnamed: 2\n",
      "Unnamed: 3\n",
      "Unnamed: 4\n",
      "Unnamed: 5\n",
      "Unnamed: 6\n",
      "Unnamed: 7\n",
      "Unnamed: 8\n",
      "Unnamed: 9\n",
      "Unnamed: 10\n",
      "Unnamed: 11\n",
      "Unnamed: 12\n",
      "Unnamed: 13\n",
      "Unnamed: 14\n",
      "Unnamed: 15\n",
      "Общее количество кандидатских ключей: 16\n"
     ]
    }
   ],
   "source": [
    "# нахождение всех кандидатских ключей\n",
    "candidate_keys = find_candidate_keys(df)\n",
    "\n",
    "# подсчет количества кандидатских ключей\n",
    "num_candidate_keys = len(candidate_keys)\n",
    "\n",
    "\n",
    "for key in candidate_keys:\n",
    "    print(key)\n",
    "\n",
    "print(f\"Общее количество кандидатских ключей: {num_candidate_keys}\")\n"
   ]
  },
  {
   "cell_type": "code",
   "execution_count": null,
   "id": "0a3d3dd4-5cfb-476e-a4ae-f2c5acb385be",
   "metadata": {},
   "outputs": [],
   "source": []
  }
 ],
 "metadata": {
  "kernelspec": {
   "display_name": "Python 3 (ipykernel)",
   "language": "python",
   "name": "python3"
  },
  "language_info": {
   "codemirror_mode": {
    "name": "ipython",
    "version": 3
   },
   "file_extension": ".py",
   "mimetype": "text/x-python",
   "name": "python",
   "nbconvert_exporter": "python",
   "pygments_lexer": "ipython3",
   "version": "3.8.1"
  }
 },
 "nbformat": 4,
 "nbformat_minor": 5
}
